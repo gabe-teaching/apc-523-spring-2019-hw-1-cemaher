{
 "cells": [
  {
   "cell_type": "code",
   "execution_count": 64,
   "metadata": {},
   "outputs": [],
   "source": [
    "import numpy as np"
   ]
  },
  {
   "cell_type": "code",
   "execution_count": 108,
   "metadata": {},
   "outputs": [
    {
     "name": "stdout",
     "output_type": "stream",
     "text": [
      "n stop = 1e+17\n",
      "Converged value = 1\n",
      "['2', '2.593742460100', '2.704813829421', '2.716923932235', '2.718145926824', '2.718268237192', '2.718280469095', '2.718281694132', '2.718281798347', '2.718282052011', '2.718282053234', '2.718282053357', '2.718523496037', '2.716110034086', '2.716110034087', '3.035035206549', '1', '1']\n"
     ]
    }
   ],
   "source": [
    "magnitudeSubset = []\n",
    "eList = []\n",
    "\n",
    "for i in range(0,20):\n",
    "    magnitudeSubset.append(10**i)\n",
    "\n",
    "magnitudeSubset = np.array(magnitudeSubset)\n",
    "\n",
    "breakCondition = 0\n",
    "for i in magnitudeSubset:\n",
    "    currentValue = np.format_float_positional(((1+1/i)**i), precision = 14, fractional = False)\n",
    "    currentValue = currentValue[:-1]\n",
    "    if currentValue == breakCondition:\n",
    "        eList.append(currentValue)\n",
    "        print(\"n stop =\",i)\n",
    "        print(\"Converged value =\",currentValue)\n",
    "        break\n",
    "    else:\n",
    "        eList.append(currentValue)\n",
    "        breakCondition = currentValue\n",
    "        \n",
    "print(eList)"
   ]
  },
  {
   "cell_type": "code",
   "execution_count": null,
   "metadata": {},
   "outputs": [],
   "source": []
  }
 ],
 "metadata": {
  "kernelspec": {
   "display_name": "Python 3",
   "language": "python",
   "name": "python3"
  },
  "language_info": {
   "codemirror_mode": {
    "name": "ipython",
    "version": 3
   },
   "file_extension": ".py",
   "mimetype": "text/x-python",
   "name": "python",
   "nbconvert_exporter": "python",
   "pygments_lexer": "ipython3",
   "version": "3.7.1"
  }
 },
 "nbformat": 4,
 "nbformat_minor": 2
}
