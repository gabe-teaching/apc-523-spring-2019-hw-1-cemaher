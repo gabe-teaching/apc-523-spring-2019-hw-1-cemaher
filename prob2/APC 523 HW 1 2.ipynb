{
 "cells": [
  {
   "cell_type": "code",
   "execution_count": 3,
   "metadata": {},
   "outputs": [],
   "source": [
    "import numpy as np"
   ]
  },
  {
   "cell_type": "code",
   "execution_count": 4,
   "metadata": {},
   "outputs": [
    {
     "name": "stdout",
     "output_type": "stream",
     "text": [
      "[1.0000e+00 5.5000e+00 1.5125e+01 2.7730e+01 3.8129e+01 4.1942e+01\n",
      " 3.8447e+01 3.0208e+01 2.0768e+01 1.2692e+01 6.9805e+00 3.4902e+00\n",
      " 1.5997e+00 6.7679e-01 2.6588e-01 9.7484e-02 3.3510e-02 1.0842e-02\n",
      " 3.3128e-03 9.5898e-04 2.6372e-04 6.9070e-05 1.7269e-05 4.1297e-06\n",
      " 9.4638e-07 2.0821e-07 4.4043e-08 8.9715e-09 1.7623e-09 3.3422e-10\n",
      " 6.1274e-11]\n"
     ]
    }
   ],
   "source": [
    "terms = []\n",
    "\n",
    "terms.append(1)\n",
    "terms.append(5.5)\n",
    "\n",
    "for i in range(2,31):\n",
    "    term1 = 5.5\n",
    "    term2 = 1\n",
    "    for j in range(i-1):\n",
    "        term1 = float(np.format_float_positional((term1 * 5.5), precision = 5, fractional = False))\n",
    "        \n",
    "    for n in range(1,i+1):\n",
    "        term2 = float(np.format_float_positional((term2 * n), precision = 5, fractional = False))\n",
    "    \n",
    "    fixedterm = float(np.format_float_positional((term1/term2), precision = 5, fractional = False))\n",
    "    terms.append(fixedterm)\n",
    "    \n",
    "terms = np.array(terms)\n",
    "print(terms)"
   ]
  },
  {
   "cell_type": "code",
   "execution_count": 5,
   "metadata": {},
   "outputs": [
    {
     "name": "stdout",
     "output_type": "stream",
     "text": [
      "244.71\n"
     ]
    }
   ],
   "source": [
    "runningsum = 0\n",
    "for i in range(0,len(terms)):\n",
    "    runningsum = float(np.format_float_positional((runningsum + terms[i]), precision = 5, fractional = False))\n",
    "    \n",
    "print(runningsum)    "
   ]
  },
  {
   "cell_type": "code",
   "execution_count": 37,
   "metadata": {},
   "outputs": [
    {
     "data": {
      "text/plain": [
       "7.383870654188337e-05"
      ]
     },
     "execution_count": 37,
     "metadata": {},
     "output_type": "execute_result"
    }
   ],
   "source": [
    "np.abs((np.exp(5.5)-runningsum)/np.exp(5.5))"
   ]
  },
  {
   "cell_type": "code",
   "execution_count": 7,
   "metadata": {},
   "outputs": [
    {
     "name": "stdout",
     "output_type": "stream",
     "text": [
      "[  1.      6.5    21.625  49.355  87.484 129.43  167.88  198.09  218.86\n",
      " 231.55  238.53  242.02  243.62  244.3   244.57  244.67  244.7   244.71\n",
      " 244.71  244.71  244.71  244.71  244.71  244.71  244.71  244.71  244.71\n",
      " 244.71  244.71  244.71  244.71 ]\n"
     ]
    }
   ],
   "source": [
    "partialsum = []\n",
    "for i in range(1,len(terms)+1):\n",
    "    sumk = 0\n",
    "    for j in range(0,i):\n",
    "        sumk = float(np.format_float_positional((sumk + terms[j]), precision = 5, fractional = False))\n",
    "    partialsum.append(sumk)\n",
    "    \n",
    "partialsum = np.array(partialsum)\n",
    "print(partialsum)"
   ]
  },
  {
   "cell_type": "code",
   "execution_count": 8,
   "metadata": {},
   "outputs": [],
   "source": [
    "reverseterms = []\n",
    "\n",
    "for i in range(len(terms)-1,-1,-1):\n",
    "    reverseterms.append(terms[i])\n",
    "\n",
    "reverseterms = np.array(reverseterms)    "
   ]
  },
  {
   "cell_type": "code",
   "execution_count": 9,
   "metadata": {},
   "outputs": [
    {
     "name": "stdout",
     "output_type": "stream",
     "text": [
      "[6.1274e-11 3.9549e-10 2.1578e-09 1.1129e-08 5.5172e-08 2.6338e-07\n",
      " 1.2098e-06 5.3395e-06 2.2608e-05 9.1678e-05 3.5540e-04 1.3144e-03\n",
      " 4.6272e-03 1.5469e-02 4.8979e-02 1.4646e-01 4.1234e-01 1.0891e+00\n",
      " 2.6888e+00 6.1790e+00 1.3160e+01 2.5852e+01 4.6620e+01 7.6828e+01\n",
      " 1.1528e+02 1.5722e+02 1.9535e+02 2.2308e+02 2.3821e+02 2.4371e+02\n",
      " 2.4471e+02]\n"
     ]
    }
   ],
   "source": [
    "revpartialsum = []\n",
    "for i in range(1,len(reverseterms)+1):\n",
    "    sumk = 0\n",
    "    for j in range(0,i):\n",
    "        sumk = float(np.format_float_positional((sumk + reverseterms[j]), precision = 5, fractional = False))\n",
    "    revpartialsum.append(sumk)\n",
    "    \n",
    "revpartialsum = np.array(revpartialsum)\n",
    "print(revpartialsum)"
   ]
  },
  {
   "cell_type": "code",
   "execution_count": 20,
   "metadata": {},
   "outputs": [],
   "source": [
    "negterms=[]\n",
    "\n",
    "for i in range(0,len(terms)):\n",
    "    if i % 2 == 0:\n",
    "        negterms.append(terms[i])\n",
    "    else:\n",
    "        negterms.append(terms[i]*-1)"
   ]
  },
  {
   "cell_type": "code",
   "execution_count": 11,
   "metadata": {},
   "outputs": [
    {
     "name": "stdout",
     "output_type": "stream",
     "text": [
      "[ 1.0000e+00 -4.5000e+00  1.0625e+01 -1.7105e+01  2.1024e+01 -2.0918e+01\n",
      "  1.7529e+01 -1.2679e+01  8.0890e+00 -4.6030e+00  2.3775e+00 -1.1127e+00\n",
      "  4.8700e-01 -1.8979e-01  7.6090e-02 -2.1394e-02  1.2116e-02  1.2740e-03\n",
      "  4.5868e-03  3.6278e-03  3.8915e-03  3.8224e-03  3.8397e-03  3.8356e-03\n",
      "  3.8365e-03  3.8363e-03  3.8363e-03  3.8363e-03  3.8363e-03  3.8363e-03\n",
      "  3.8363e-03]\n"
     ]
    }
   ],
   "source": [
    "partialnegsum = []\n",
    "for i in range(1,len(negterms)+1):\n",
    "    sumk = 0\n",
    "    for j in range(0,i):\n",
    "        sumk = float(np.format_float_positional((sumk + negterms[j]), precision = 5, fractional = False))\n",
    "    partialnegsum.append(sumk)\n",
    "    \n",
    "partialnegsum = np.array(partialnegsum)\n",
    "print(partialnegsum)"
   ]
  },
  {
   "cell_type": "code",
   "execution_count": 36,
   "metadata": {},
   "outputs": [
    {
     "data": {
      "text/plain": [
       "0.06128834025477125"
      ]
     },
     "execution_count": 36,
     "metadata": {},
     "output_type": "execute_result"
    }
   ],
   "source": [
    "np.abs((np.exp(-5.5)-(3.8363e-03))/np.exp(-5.5))"
   ]
  },
  {
   "cell_type": "code",
   "execution_count": 21,
   "metadata": {},
   "outputs": [],
   "source": [
    "reversenegterms = []\n",
    "\n",
    "for i in range(len(negterms)-1,-1,-1):\n",
    "    reversenegterms.append(negterms[i])\n",
    "\n",
    "reversenegterms = np.array(reversenegterms)"
   ]
  },
  {
   "cell_type": "code",
   "execution_count": 13,
   "metadata": {},
   "outputs": [
    {
     "name": "stdout",
     "output_type": "stream",
     "text": [
      "[ 6.1274e-11 -2.7295e-10  1.4894e-09 -7.4821e-09  3.6561e-08 -1.7165e-07\n",
      "  7.7473e-07 -3.3550e-06  1.3914e-05 -5.5156e-05  2.0856e-04 -7.5042e-04\n",
      "  2.5624e-03 -8.2796e-03  2.5230e-02 -7.2254e-02  1.9363e-01 -4.8316e-01\n",
      "  1.1165e+00 -2.3737e+00  4.6068e+00 -8.0852e+00  1.2683e+01 -1.7525e+01\n",
      "  2.0922e+01 -2.1020e+01  1.7109e+01 -1.0621e+01  4.5040e+00 -9.9600e-01\n",
      "  4.0000e-03]\n"
     ]
    }
   ],
   "source": [
    "partialrevnegsum = []\n",
    "for i in range(1,len(reversenegterms)+1):\n",
    "    sumk = 0\n",
    "    for j in range(0,i):\n",
    "        sumk = float(np.format_float_positional((sumk + reversenegterms[j]), precision = 5, fractional = False))\n",
    "    partialrevnegsum.append(sumk)\n",
    "    \n",
    "partialrevnegsum = np.array(partialrevnegsum)\n",
    "print(partialrevnegsum)"
   ]
  },
  {
   "cell_type": "code",
   "execution_count": 38,
   "metadata": {},
   "outputs": [
    {
     "data": {
      "text/plain": [
       "0.021232270943118334"
      ]
     },
     "execution_count": 38,
     "metadata": {},
     "output_type": "execute_result"
    }
   ],
   "source": [
    "np.abs((np.exp(-5.5)-(4.0e-03))/np.exp(-5.5))"
   ]
  },
  {
   "cell_type": "code",
   "execution_count": 23,
   "metadata": {},
   "outputs": [],
   "source": [
    "partpossumlr = []\n",
    "\n",
    "for i in range(1,len(negterms)+1):\n",
    "    sumk = 0\n",
    "    for j in range(0,i):\n",
    "        if j%2==0:\n",
    "            sumk = float(np.format_float_positional((sumk + negterms[j]), precision = 5, fractional = False))\n",
    "        else:\n",
    "            continue        \n",
    "    partpossumlr.append(sumk)\n",
    "    \n",
    "partpossumlr = np.array(partpossumlr)"
   ]
  },
  {
   "cell_type": "code",
   "execution_count": 22,
   "metadata": {},
   "outputs": [],
   "source": [
    "partpossumrl = []\n",
    "\n",
    "for i in range(1,len(reversenegterms)+1):\n",
    "    sumk = 0\n",
    "    for j in range(0,i):\n",
    "        if j%2==0:\n",
    "            sumk = float(np.format_float_positional((sumk + reversenegterms[j]), precision = 5, fractional = False))\n",
    "        else:\n",
    "            continue        \n",
    "    partpossumrl.append(sumk)\n",
    "    \n",
    "partpossumrl = np.array(partpossumrl)"
   ]
  },
  {
   "cell_type": "code",
   "execution_count": 24,
   "metadata": {},
   "outputs": [],
   "source": [
    "partnegsumlr = []\n",
    "\n",
    "for i in range(1,len(negterms)+1):\n",
    "    sumk = 0\n",
    "    for j in range(0,i):\n",
    "        if j%2==1:\n",
    "            sumk = float(np.format_float_positional((sumk + negterms[j]), precision = 5, fractional = False))\n",
    "        else:\n",
    "            continue        \n",
    "    partnegsumlr.append(sumk)\n",
    "    \n",
    "partnegsumlr = np.array(partnegsumlr)"
   ]
  },
  {
   "cell_type": "code",
   "execution_count": 25,
   "metadata": {},
   "outputs": [],
   "source": [
    "partnegsumrl = []\n",
    "\n",
    "for i in range(1,len(reversenegterms)+1):\n",
    "    sumk = 0\n",
    "    for j in range(0,i):\n",
    "        if j%2==1:\n",
    "            sumk = float(np.format_float_positional((sumk + reversenegterms[j]), precision = 5, fractional = False))\n",
    "        else:\n",
    "            continue        \n",
    "    partnegsumrl.append(sumk)\n",
    "    \n",
    "partnegsumrl = np.array(partnegsumrl)"
   ]
  },
  {
   "cell_type": "code",
   "execution_count": 18,
   "metadata": {},
   "outputs": [
    {
     "name": "stdout",
     "output_type": "stream",
     "text": [
      "[ 1.0000e+00 -4.5000e+00  1.0625e+01 -1.7105e+01  2.1024e+01 -2.0918e+01\n",
      "  1.7529e+01 -1.2679e+01  8.0900e+00 -4.6000e+00  2.3800e+00 -1.1100e+00\n",
      "  4.9000e-01 -1.9000e-01  8.0000e-02 -2.0000e-02  1.0000e-02  0.0000e+00\n",
      "  0.0000e+00  0.0000e+00  0.0000e+00  0.0000e+00  0.0000e+00  0.0000e+00\n",
      "  0.0000e+00  0.0000e+00  0.0000e+00  0.0000e+00  0.0000e+00  0.0000e+00\n",
      "  0.0000e+00]\n"
     ]
    }
   ],
   "source": [
    "diii = []\n",
    "\n",
    "for i in range(0, len(terms)):\n",
    "    partial = float(np.format_float_positional((partpossumlr[i]+partnegsumlr[i]), precision = 5, fractional = False))\n",
    "    diii.append(partial)\n",
    "    \n",
    "diii = np.array(diii)\n",
    "print(diii)"
   ]
  },
  {
   "cell_type": "code",
   "execution_count": 19,
   "metadata": {},
   "outputs": [
    {
     "name": "stdout",
     "output_type": "stream",
     "text": [
      "[ 6.1274e-11 -2.7295e-10  1.4894e-09 -7.4821e-09  3.6561e-08 -1.7165e-07\n",
      "  7.7473e-07 -3.3549e-06  1.3914e-05 -5.5156e-05  2.0856e-04 -7.5042e-04\n",
      "  2.5624e-03 -8.2792e-03  2.5231e-02 -7.2255e-02  1.9363e-01 -4.8316e-01\n",
      "  1.1166e+00 -2.3736e+00  4.6069e+00 -8.0848e+00  1.2683e+01 -1.7525e+01\n",
      "  2.0922e+01 -2.1020e+01  1.7112e+01 -1.0620e+01  4.5100e+00 -9.9000e-01\n",
      "  1.0000e-02]\n"
     ]
    }
   ],
   "source": [
    "div = []\n",
    "\n",
    "for i in range(0, len(terms)):\n",
    "    partial = float(np.format_float_positional((partpossumrl[i]+partnegsumrl[i]), precision = 5, fractional = False))\n",
    "    div.append(partial)\n",
    "    \n",
    "div = np.array(div)\n",
    "print(div)"
   ]
  },
  {
   "cell_type": "code",
   "execution_count": 45,
   "metadata": {},
   "outputs": [
    {
     "data": {
      "text/plain": [
       "1.4469193226422041"
      ]
     },
     "execution_count": 45,
     "metadata": {},
     "output_type": "execute_result"
    }
   ],
   "source": [
    "np.abs((np.exp(-5.5)-(0.01)))/np.exp(-5.5)"
   ]
  },
  {
   "cell_type": "code",
   "execution_count": 46,
   "metadata": {},
   "outputs": [
    {
     "data": {
      "text/plain": [
       "6.64188022633233e-05"
      ]
     },
     "execution_count": 46,
     "metadata": {},
     "output_type": "execute_result"
    }
   ],
   "source": [
    "np.abs(np.exp(-5.5)-.0040865)/np.exp(-5.5)"
   ]
  }
 ],
 "metadata": {
  "kernelspec": {
   "display_name": "Python 3",
   "language": "python",
   "name": "python3"
  },
  "language_info": {
   "codemirror_mode": {
    "name": "ipython",
    "version": 3
   },
   "file_extension": ".py",
   "mimetype": "text/x-python",
   "name": "python",
   "nbconvert_exporter": "python",
   "pygments_lexer": "ipython3",
   "version": "3.7.1"
  }
 },
 "nbformat": 4,
 "nbformat_minor": 2
}
